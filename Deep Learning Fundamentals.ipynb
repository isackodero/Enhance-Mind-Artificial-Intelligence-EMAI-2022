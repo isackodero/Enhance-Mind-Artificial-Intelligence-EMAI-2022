{
 "cells": [
  {
   "cell_type": "markdown",
   "id": "94124e6c",
   "metadata": {},
   "source": [
    "<h1>DEEP LEARNING FUNDAMENTALS</h1> \n",
    "<h3>Isack Odero<h3/>"
   ]
  },
  {
   "cell_type": "markdown",
   "id": "df14ae43",
   "metadata": {},
   "source": [
    "<img src='img/zoom.jpg'>"
   ]
  },
  {
   "cell_type": "code",
   "execution_count": null,
   "id": "0158e63e",
   "metadata": {},
   "outputs": [],
   "source": []
  }
 ],
 "metadata": {
  "kernelspec": {
   "display_name": "Python 3",
   "language": "python",
   "name": "python3"
  },
  "language_info": {
   "codemirror_mode": {
    "name": "ipython",
    "version": 3
   },
   "file_extension": ".py",
   "mimetype": "text/x-python",
   "name": "python",
   "nbconvert_exporter": "python",
   "pygments_lexer": "ipython3",
   "version": "3.8.10"
  }
 },
 "nbformat": 4,
 "nbformat_minor": 5
}
